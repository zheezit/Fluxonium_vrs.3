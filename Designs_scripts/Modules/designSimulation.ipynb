{
 "cells": [
  {
   "attachments": {},
   "cell_type": "markdown",
   "metadata": {},
   "source": [
    "### For simulating qubit design, gate-qubit coupling, resonator-qubit coupling\n",
    "        ---Zhenhai, 20230526"
   ]
  },
  {
   "cell_type": "code",
   "execution_count": 1,
   "metadata": {},
   "outputs": [],
   "source": [
    "import numpy as np\n",
    "import scipy\n",
    "from scipy.constants import e, hbar\n",
    "import matplotlib.pyplot as plt"
   ]
  },
  {
   "attachments": {},
   "cell_type": "markdown",
   "metadata": {},
   "source": [
    "### define the units "
   ]
  },
  {
   "cell_type": "code",
   "execution_count": 2,
   "metadata": {},
   "outputs": [],
   "source": [
    "fF = 1e-15\n",
    "aF = 1e-18\n",
    "GHz = 1e9\n",
    "MHz = 1e6\n",
    "us = 1e-6"
   ]
  },
  {
   "attachments": {},
   "cell_type": "markdown",
   "metadata": {},
   "source": [
    "### the capacitance matrix got from simulation"
   ]
  },
  {
   "cell_type": "code",
   "execution_count": 3,
   "metadata": {},
   "outputs": [],
   "source": [
    "C_qubit = 95*fF # the qubit capacitance \n",
    "C_qubitDrive_coupling = 0.2*fF # the coupling capacitance between qubit and the drive line (gate/charge line)\n",
    "Z_ext = 35 # the impedance seen by the qubit"
   ]
  },
  {
   "cell_type": "code",
   "execution_count": 4,
   "metadata": {},
   "outputs": [],
   "source": [
    "qubit_freq_list = np.linspace(3.5*GHz, 8*GHz, 151)\n"
   ]
  },
  {
   "attachments": {},
   "cell_type": "markdown",
   "metadata": {},
   "source": [
    "#### relaxation(Q factor) due to coupling to continuous EM environment"
   ]
  },
  {
   "cell_type": "code",
   "execution_count": 5,
   "metadata": {},
   "outputs": [],
   "source": [
    "Q_EM = C_qubit / (2*np.pi*qubit_freq_list) / C_qubitDrive_coupling**2 / Z_ext"
   ]
  },
  {
   "attachments": {},
   "cell_type": "markdown",
   "metadata": {},
   "source": [
    "#### relaxation(Q factor) due to the intrinsic loss"
   ]
  },
  {
   "cell_type": "code",
   "execution_count": 6,
   "metadata": {},
   "outputs": [],
   "source": [
    "Q_int = 0.25 * 1e6 # estimate from the bare resonator measurement\n",
    "Q_int_future = 0.75*1e6"
   ]
  },
  {
   "attachments": {},
   "cell_type": "markdown",
   "metadata": {},
   "source": [
    "#### relaxation(Q factor) due to the Purcell effect"
   ]
  },
  {
   "cell_type": "code",
   "execution_count": 7,
   "metadata": {},
   "outputs": [],
   "source": [
    "Q_res_load = 10000 # loaded quality factor of the readout resonator\n",
    "g_res_qubit = 2*np.pi * 50*MHz # the couping strength between resonator and qubit\n",
    "wr = 2 * np.pi * 6.418*GHz # the resonator frequency\n",
    "gama = wr / Q_res_load\n",
    "Q_Pur = 2*np.pi*qubit_freq_list * (2*np.pi*qubit_freq_list - wr)**2 / g_res_qubit**2 / gama\n",
    "Q_Pur_high_order = 2*np.pi*qubit_freq_list * (2*np.pi*qubit_freq_list - 2*wr)**2 / np.sqrt(2) / g_res_qubit**2 / gama"
   ]
  },
  {
   "attachments": {},
   "cell_type": "markdown",
   "metadata": {},
   "source": [
    "#### Q loaded factor of the qubit"
   ]
  },
  {
   "cell_type": "code",
   "execution_count": 8,
   "metadata": {},
   "outputs": [],
   "source": [
    "Q_loaded = 1.0 / (1/Q_EM + 1/Q_int + 1/Q_Pur + 1/Q_Pur_high_order)\n",
    "Q_loaded_future = 1.0 / (1/Q_EM + 1/Q_int_future + 1/Q_Pur + 1/Q_Pur_high_order)\n",
    "T1 = Q_loaded / (2*np.pi*qubit_freq_list) /us\n",
    "T1_future = Q_loaded_future / (2*np.pi*qubit_freq_list) /us"
   ]
  },
  {
   "attachments": {},
   "cell_type": "markdown",
   "metadata": {},
   "source": [
    "### plotting"
   ]
  },
  {
   "cell_type": "code",
   "execution_count": 9,
   "metadata": {},
   "outputs": [
    {
     "data": {
      "image/png": "[encoded data removed]",
      "text/plain": [
       "<Figure size 600x400 with 1 Axes>"
      ]
     },
     "metadata": {},
     "output_type": "display_data"
    }
   ],
   "source": [
    "# qubitFreq = np.array([5.2882, 5.1775, 4.7048, 4.4161, 3.9236, 3.7503, 3.4369])\n",
    "# T1_array = np.array([2.39, 1.99, 2.69, 2.72, 4.57, 4.09, 5.84])\n",
    "# T1_uncer_array = np.array([0.1, 0.12, 0.12, 0.14, 0.59, 0.25, 0.4])\n",
    "qubitFreq = np.array([3.511, 5.7499, 5.7849, 5.6053, 4.9435, 5.163, 4.9501, 4.66698, 4.1, 4.282, 3.7, 3.6935, 3.5407, 3.5698, 7.385, 7.117, 7.031, 6.9147, 6.845, 5.919, 6.093, 5.9845, 5.9538, 5.726, 5.0761, 5.3041, 4.823, 3.854, 4.0608]) +0.1\n",
    "T1_array = np.array([9.4, 5.14, 4.7, 4.86, 3.55, 4.37, 3.56, 1.02, 1.81, 1.0, 7.9, 7.36, 9.1, 7.89, 2.74, 2.27, 2.40, 2.04, 2.26, 4.59, 2.4, 3.37, 4.33, 5.04, 3.7, 4.77, 2.47, 4.78, 2.97])\n",
    "T1_uncer_array = np.array([0.68, 0.16, 0.38, 0.08, 0.22, 0.25, 0.08, 0.07, 0.03, 0.13, 1.15, 0.91, 1.05, 0.57, 0.06, 0.06, 0.07, 0.05, 0.03, 0.25, 0.11, 0.1, 0.05, 0.11, 0.14, 0.12, 0.06, 0.75, 0.26])\n",
    "plt.figure(figsize=(6, 4))\n",
    "plt.errorbar(x=qubitFreq, y=T1_array, yerr=T1_uncer_array, linestyle='', marker='o', ecolor='k', color='k', ms=5, linewidth = 1, elinewidth=1)\n",
    "plt.plot(qubit_freq_list/1e9, T1, 'r-', label=r\"$Q_{i} \\approx 0.25$M\")\n",
    "# plt.plot(qubit_freq_list/1e9, T1_future, 'C0--', label=r\"$Q_{i} \\approx 0.75$M\")\n",
    "plt.xlabel(\"$f_{q}$ (GHz)\", fontsize=15)\n",
    "plt.ylabel(\"$T_{1}$ ($\\mu$s)\", fontsize=15)\n",
    "plt.xticks(fontsize=15)\n",
    "plt.yticks([0, 5, 10], fontsize=15)\n",
    "plt.ylim([0, 12])\n",
    "plt.legend()\n",
    "plt.savefig(\"gatemon_rightnow_T1.pdf\", dpi=300, bbox_inches=\"tight\", transparent = True)\n",
    "plt.show()\n"
   ]
  },
  {
   "cell_type": "code",
   "execution_count": null,
   "metadata": {},
   "outputs": [],
   "source": []
  },
  {
   "cell_type": "code",
   "execution_count": null,
   "metadata": {},
   "outputs": [],
   "source": []
  }
 ],
 "metadata": {
  "kernelspec": {
   "display_name": "quantum_calibrator",
   "language": "python",
   "name": "python3"
  },
  "language_info": {
   "codemirror_mode": {
    "name": "ipython",
    "version": 3
   },
   "file_extension": ".py",
   "mimetype": "text/x-python",
   "name": "python",
   "nbconvert_exporter": "python",
   "pygments_lexer": "ipython3",
   "version": "3.7.16"
  },
  "orig_nbformat": 4,
  "vscode": {
   "interpreter": {
    "hash": "f3693552fd9831992f9ddd2c83a5700bd26f777f0adf480c6ce590e1b112e581"
   }
  }
 },
 "nbformat": 4,
 "nbformat_minor": 2
}
